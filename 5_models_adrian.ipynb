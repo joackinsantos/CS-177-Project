{
 "cells": [
  {
   "cell_type": "code",
   "execution_count": 44,
   "id": "36ec1793",
   "metadata": {},
   "outputs": [],
   "source": [
    "from sklearn.neighbors import KNeighborsClassifier\n",
    "import itertools\n",
    "import numpy as np\n",
    "import matplotlib.pyplot as plt\n",
    "import seaborn as sns\n",
    "import pandas as pd\n",
    "\n",
    "\n",
    "train_set = pd.read_csv('train_set.csv')\n",
    "test_set = pd.read_csv('test_set.csv')\n",
    "\n",
    "# x train, y Train\n",
    "x_train = train_set\n",
    "x_train.drop(\"Class\", axis=1)\n",
    "y_train = train_set[\"Class\"]\n",
    "\n",
    "# x test, y test\n",
    "x_test = test_set\n",
    "x_test.drop(\"Class\", axis=1)\n",
    "y_test = x_test[\"Class\"]"
   ]
  },
  {
   "cell_type": "code",
   "execution_count": 42,
   "id": "e8555af8",
   "metadata": {},
   "outputs": [],
   "source": [
    "knn_clf=KNeighborsClassifier()\n",
    "knn_clf.fit(x_train,y_train)\n",
    "ypred=knn_clf.predict(x_test) #These are the predicted output values"
   ]
  },
  {
   "cell_type": "code",
   "execution_count": 46,
   "id": "3dc41359",
   "metadata": {},
   "outputs": [
    {
     "data": {
      "image/png": "[encoded data removed]",
      "text/plain": [
       "<Figure size 432x288 with 2 Axes>"
      ]
     },
     "metadata": {
      "needs_background": "light"
     },
     "output_type": "display_data"
    }
   ],
   "source": [
    "from sklearn.metrics import classification_report, confusion_matrix, accuracy_score\n",
    "matrix = confusion_matrix(y_test, ypred)\n",
    "#print(matrix)\n",
    "\n",
    "class_names = ['CardiacLim','Healthy','MuscleSkeletalLim','class-4']\n",
    "   \n",
    "plt.clf()\n",
    "\n",
    "# place labels at the top\n",
    "plt.gca().xaxis.tick_top()\n",
    "plt.gca().xaxis.set_label_position('top')\n",
    "\n",
    "# plot the matrix per se\n",
    "plt.imshow(matrix, interpolation='nearest', cmap=plt.cm.Blues)\n",
    "\n",
    "# plot colorbar to the right\n",
    "plt.colorbar()\n",
    "    \n",
    "fmt = 'd'\n",
    "\n",
    "# write the number of predictions in each bucket\n",
    "thresh = matrix.max() / 2.\n",
    "for i, j in itertools.product(range(matrix.shape[0]), range(matrix.shape[1])):\n",
    "\n",
    "    # if background is dark, use a white number, and vice-versa\n",
    "    plt.text(j, i, format(matrix[i, j], fmt),\n",
    "         horizontalalignment=\"center\",\n",
    "         color=\"white\" if matrix[i, j] > thresh else \"black\")\n",
    "    \n",
    "tick_marks = np.arange(len(class_names))\n",
    "plt.xticks(tick_marks, class_names, rotation=45)\n",
    "plt.yticks(tick_marks, class_names)\n",
    "plt.tight_layout()\n",
    "plt.ylabel('True label',size=14)\n",
    "plt.xlabel('Predicted label',size=14)\n",
    "plt.show()\n"
   ]
  },
  {
   "cell_type": "code",
   "execution_count": 35,
   "id": "667fe3c8",
   "metadata": {},
   "outputs": [
    {
     "name": "stdout",
     "output_type": "stream",
     "text": [
      "              precision    recall  f1-score   support\n",
      "\n",
      "           0       0.94      0.77      0.85        22\n",
      "           1       0.87      0.93      0.90        28\n",
      "           2       0.82      0.82      0.82        11\n",
      "           3       0.71      1.00      0.83         5\n",
      "\n",
      "    accuracy                           0.86        66\n",
      "   macro avg       0.84      0.88      0.85        66\n",
      "weighted avg       0.87      0.86      0.86        66\n",
      "\n"
     ]
    }
   ],
   "source": [
    "result1 = classification_report(y_test, ypred)\n",
    "print(result1)\n"
   ]
  },
  {
   "cell_type": "code",
   "execution_count": 36,
   "id": "62b10734",
   "metadata": {},
   "outputs": [
    {
     "name": "stdout",
     "output_type": "stream",
     "text": [
      "0.8636363636363636\n"
     ]
    }
   ],
   "source": [
    "result2 = accuracy_score(y_test,ypred)\n",
    "print(result2)"
   ]
  },
  {
   "cell_type": "code",
   "execution_count": null,
   "id": "ad5af40a",
   "metadata": {},
   "outputs": [],
   "source": []
  }
 ],
 "metadata": {
  "kernelspec": {
   "display_name": "Python 3 (ipykernel)",
   "language": "python",
   "name": "python3"
  },
  "language_info": {
   "codemirror_mode": {
    "name": "ipython",
    "version": 3
   },
   "file_extension": ".py",
   "mimetype": "text/x-python",
   "name": "python",
   "nbconvert_exporter": "python",
   "pygments_lexer": "ipython3",
   "version": "3.9.7"
  }
 },
 "nbformat": 4,
 "nbformat_minor": 5
}
