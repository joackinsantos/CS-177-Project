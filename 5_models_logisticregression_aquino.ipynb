{
  "nbformat": 4,
  "nbformat_minor": 0,
  "metadata": {
    "colab": {
      "provenance": []
    },
    "kernelspec": {
      "name": "python3",
      "display_name": "Python 3"
    },
    "language_info": {
      "name": "python"
    }
  },
  "cells": [
    {
      "cell_type": "code",
      "execution_count": null,
      "metadata": {
        "colab": {
          "base_uri": "https://localhost:8080/"
        },
        "id": "l4ZqbNLAvN2d",
        "outputId": "57e88dc4-2007-4dd3-ca01-05bb0c9059f7"
      },
      "outputs": [
        {
          "output_type": "stream",
          "name": "stdout",
          "text": [
            "Drive already mounted at /content/gdrive; to attempt to forcibly remount, call drive.mount(\"/content/gdrive\", force_remount=True).\n"
          ]
        }
      ],
      "source": [
        "from sklearn.model_selection import GridSearchCV\n",
        "from sklearn.linear_model import LogisticRegression\n",
        "\n",
        "from sklearn.metrics import confusion_matrix, accuracy_score, precision_score, recall_score, f1_score, classification_report\n",
        "import itertools\n",
        "import numpy as np\n",
        "import matplotlib.pyplot as plt\n",
        "import seaborn as sns\n",
        "import pandas as pd\n",
        "\n",
        "import warnings\n",
        "\n",
        "warnings.filterwarnings('ignore')\n",
        "\n",
        "# sns.set_theme(style=\"whitegrid\")\n",
        "\n",
        "train_set = pd.read_csv('train_set.csv')\n",
        "test_set = pd.read_csv('test_set.csv')"
      ]
    },
    {
      "cell_type": "code",
      "source": [
        "# Split the training dataset into features (x) and class (y)\n",
        "x_train = train_set.copy()\n",
        "x_train = train_set.drop(\"Class\", axis=1)\n",
        "y_train = train_set[\"Class\"]\n",
        "\n",
        "# Split the training dataset into features (x) and class (y)\n",
        "x_test = test_set.copy()\n",
        "x_test = x_test.drop(\"Class\", axis=1)\n",
        "y_test = test_set[\"Class\"]\n",
        "\n",
        "display(x_train.head())\n",
        "\n",
        "train_len = len(y_train)\n",
        "test_len = len(y_test)\n",
        "total_len = train_len + test_len\n",
        "print(total_len)\n",
        "print(f\"Number of training dataset records: {train_len}, {'{:.2f}%'.format(100 * train_len / total_len)} of total\")\n",
        "print(f\"Number of test dataset records: {len(x_test)}, {'{:.2f}%'.format(100 * test_len / total_len)} of total\")"
      ],
      "metadata": {
        "colab": {
          "base_uri": "https://localhost:8080/",
          "height": 260
        },
        "id": "fEuwKXAkwSTd",
        "outputId": "dbcf966d-8e86-428a-d1e1-d9e441b920ac"
      },
      "execution_count": null,
      "outputs": [
        {
          "output_type": "display_data",
          "data": {
            "text/plain": [
              "   LowestVE/VCO2  PeakVO2Real  DiffPeakVO2  DiffPercentPeakVO2   MeanVO2  \\\n",
              "0       0.125760    -0.418146     0.363240           -0.858639 -0.015964   \n",
              "1       0.638246    -1.135581    -0.584887           -0.521123 -1.149392   \n",
              "2      -0.668593    -0.436081    -0.199208           -0.408618 -0.510841   \n",
              "3      -1.667941     0.066123     0.973898            1.005733 -0.287348   \n",
              "4      -0.540472    -0.238787    -1.050915            0.121763  0.335239   \n",
              "\n",
              "    PeakVO2  MeanVCO2  O2PulseDiff  O2PulsePercent  VO2vsPeakVO2atVT  \n",
              "0 -0.418146 -0.312581    -0.702406       -0.574696          0.077734  \n",
              "1 -1.135581 -1.196624     0.031928       -1.404812         -1.043617  \n",
              "2 -0.436081 -0.441169    -0.399094       -0.878007         -0.082459  \n",
              "3  0.066123 -0.023258     0.654515        0.766261          0.382101  \n",
              "4 -0.238787  0.217844    -1.117464       -0.415058          0.542294  "
            ],
            "text/html": [
              "\n",
              "  <div id=\"df-0ded3073-dd17-421d-aa3a-7154fff6427e\">\n",
              "    <div class=\"colab-df-container\">\n",
              "      <div>\n",
              "<style scoped>\n",
              "    .dataframe tbody tr th:only-of-type {\n",
              "        vertical-align: middle;\n",
              "    }\n",
              "\n",
              "    .dataframe tbody tr th {\n",
              "        vertical-align: top;\n",
              "    }\n",
              "\n",
              "    .dataframe thead th {\n",
              "        text-align: right;\n",
              "    }\n",
              "</style>\n",
              "<table border=\"1\" class=\"dataframe\">\n",
              "  <thead>\n",
              "    <tr style=\"text-align: right;\">\n",
              "      <th></th>\n",
              "      <th>LowestVE/VCO2</th>\n",
              "      <th>PeakVO2Real</th>\n",
              "      <th>DiffPeakVO2</th>\n",
              "      <th>DiffPercentPeakVO2</th>\n",
              "      <th>MeanVO2</th>\n",
              "      <th>PeakVO2</th>\n",
              "      <th>MeanVCO2</th>\n",
              "      <th>O2PulseDiff</th>\n",
              "      <th>O2PulsePercent</th>\n",
              "      <th>VO2vsPeakVO2atVT</th>\n",
              "    </tr>\n",
              "  </thead>\n",
              "  <tbody>\n",
              "    <tr>\n",
              "      <th>0</th>\n",
              "      <td>0.125760</td>\n",
              "      <td>-0.418146</td>\n",
              "      <td>0.363240</td>\n",
              "      <td>-0.858639</td>\n",
              "      <td>-0.015964</td>\n",
              "      <td>-0.418146</td>\n",
              "      <td>-0.312581</td>\n",
              "      <td>-0.702406</td>\n",
              "      <td>-0.574696</td>\n",
              "      <td>0.077734</td>\n",
              "    </tr>\n",
              "    <tr>\n",
              "      <th>1</th>\n",
              "      <td>0.638246</td>\n",
              "      <td>-1.135581</td>\n",
              "      <td>-0.584887</td>\n",
              "      <td>-0.521123</td>\n",
              "      <td>-1.149392</td>\n",
              "      <td>-1.135581</td>\n",
              "      <td>-1.196624</td>\n",
              "      <td>0.031928</td>\n",
              "      <td>-1.404812</td>\n",
              "      <td>-1.043617</td>\n",
              "    </tr>\n",
              "    <tr>\n",
              "      <th>2</th>\n",
              "      <td>-0.668593</td>\n",
              "      <td>-0.436081</td>\n",
              "      <td>-0.199208</td>\n",
              "      <td>-0.408618</td>\n",
              "      <td>-0.510841</td>\n",
              "      <td>-0.436081</td>\n",
              "      <td>-0.441169</td>\n",
              "      <td>-0.399094</td>\n",
              "      <td>-0.878007</td>\n",
              "      <td>-0.082459</td>\n",
              "    </tr>\n",
              "    <tr>\n",
              "      <th>3</th>\n",
              "      <td>-1.667941</td>\n",
              "      <td>0.066123</td>\n",
              "      <td>0.973898</td>\n",
              "      <td>1.005733</td>\n",
              "      <td>-0.287348</td>\n",
              "      <td>0.066123</td>\n",
              "      <td>-0.023258</td>\n",
              "      <td>0.654515</td>\n",
              "      <td>0.766261</td>\n",
              "      <td>0.382101</td>\n",
              "    </tr>\n",
              "    <tr>\n",
              "      <th>4</th>\n",
              "      <td>-0.540472</td>\n",
              "      <td>-0.238787</td>\n",
              "      <td>-1.050915</td>\n",
              "      <td>0.121763</td>\n",
              "      <td>0.335239</td>\n",
              "      <td>-0.238787</td>\n",
              "      <td>0.217844</td>\n",
              "      <td>-1.117464</td>\n",
              "      <td>-0.415058</td>\n",
              "      <td>0.542294</td>\n",
              "    </tr>\n",
              "  </tbody>\n",
              "</table>\n",
              "</div>\n",
              "      <button class=\"colab-df-convert\" onclick=\"convertToInteractive('df-0ded3073-dd17-421d-aa3a-7154fff6427e')\"\n",
              "              title=\"Convert this dataframe to an interactive table.\"\n",
              "              style=\"display:none;\">\n",
              "        \n",
              "  <svg xmlns=\"http://www.w3.org/2000/svg\" height=\"24px\"viewBox=\"0 0 24 24\"\n",
              "       width=\"24px\">\n",
              "    <path d=\"M0 0h24v24H0V0z\" fill=\"none\"/>\n",
              "    <path d=\"M18.56 5.44l.94 2.06.94-2.06 2.06-.94-2.06-.94-.94-2.06-.94 2.06-2.06.94zm-11 1L8.5 8.5l.94-2.06 2.06-.94-2.06-.94L8.5 2.5l-.94 2.06-2.06.94zm10 10l.94 2.06.94-2.06 2.06-.94-2.06-.94-.94-2.06-.94 2.06-2.06.94z\"/><path d=\"M17.41 7.96l-1.37-1.37c-.4-.4-.92-.59-1.43-.59-.52 0-1.04.2-1.43.59L10.3 9.45l-7.72 7.72c-.78.78-.78 2.05 0 2.83L4 21.41c.39.39.9.59 1.41.59.51 0 1.02-.2 1.41-.59l7.78-7.78 2.81-2.81c.8-.78.8-2.07 0-2.86zM5.41 20L4 18.59l7.72-7.72 1.47 1.35L5.41 20z\"/>\n",
              "  </svg>\n",
              "      </button>\n",
              "      \n",
              "  <style>\n",
              "    .colab-df-container {\n",
              "      display:flex;\n",
              "      flex-wrap:wrap;\n",
              "      gap: 12px;\n",
              "    }\n",
              "\n",
              "    .colab-df-convert {\n",
              "      background-color: #E8F0FE;\n",
              "      border: none;\n",
              "      border-radius: 50%;\n",
              "      cursor: pointer;\n",
              "      display: none;\n",
              "      fill: #1967D2;\n",
              "      height: 32px;\n",
              "      padding: 0 0 0 0;\n",
              "      width: 32px;\n",
              "    }\n",
              "\n",
              "    .colab-df-convert:hover {\n",
              "      background-color: #E2EBFA;\n",
              "      box-shadow: 0px 1px 2px rgba(60, 64, 67, 0.3), 0px 1px 3px 1px rgba(60, 64, 67, 0.15);\n",
              "      fill: #174EA6;\n",
              "    }\n",
              "\n",
              "    [theme=dark] .colab-df-convert {\n",
              "      background-color: #3B4455;\n",
              "      fill: #D2E3FC;\n",
              "    }\n",
              "\n",
              "    [theme=dark] .colab-df-convert:hover {\n",
              "      background-color: #434B5C;\n",
              "      box-shadow: 0px 1px 3px 1px rgba(0, 0, 0, 0.15);\n",
              "      filter: drop-shadow(0px 1px 2px rgba(0, 0, 0, 0.3));\n",
              "      fill: #FFFFFF;\n",
              "    }\n",
              "  </style>\n",
              "\n",
              "      <script>\n",
              "        const buttonEl =\n",
              "          document.querySelector('#df-0ded3073-dd17-421d-aa3a-7154fff6427e button.colab-df-convert');\n",
              "        buttonEl.style.display =\n",
              "          google.colab.kernel.accessAllowed ? 'block' : 'none';\n",
              "\n",
              "        async function convertToInteractive(key) {\n",
              "          const element = document.querySelector('#df-0ded3073-dd17-421d-aa3a-7154fff6427e');\n",
              "          const dataTable =\n",
              "            await google.colab.kernel.invokeFunction('convertToInteractive',\n",
              "                                                     [key], {});\n",
              "          if (!dataTable) return;\n",
              "\n",
              "          const docLinkHtml = 'Like what you see? Visit the ' +\n",
              "            '<a target=\"_blank\" href=https://colab.research.google.com/notebooks/data_table.ipynb>data table notebook</a>'\n",
              "            + ' to learn more about interactive tables.';\n",
              "          element.innerHTML = '';\n",
              "          dataTable['output_type'] = 'display_data';\n",
              "          await google.colab.output.renderOutput(dataTable, element);\n",
              "          const docLink = document.createElement('div');\n",
              "          docLink.innerHTML = docLinkHtml;\n",
              "          element.appendChild(docLink);\n",
              "        }\n",
              "      </script>\n",
              "    </div>\n",
              "  </div>\n",
              "  "
            ]
          },
          "metadata": {}
        },
        {
          "output_type": "stream",
          "name": "stdout",
          "text": [
            "217\n",
            "Number of training dataset records: 151, 69.59% of total\n",
            "Number of test dataset records: 66, 30.41% of total\n"
          ]
        }
      ]
    },
    {
      "cell_type": "code",
      "source": [
        "print(x_train.columns, len(x_train.columns))"
      ],
      "metadata": {
        "colab": {
          "base_uri": "https://localhost:8080/"
        },
        "id": "Rges8zdl23k5",
        "outputId": "3abd8d6c-fd1f-42c5-cf9f-68dde7239c55"
      },
      "execution_count": null,
      "outputs": [
        {
          "output_type": "stream",
          "name": "stdout",
          "text": [
            "Index(['LowestVE/VCO2', 'PeakVO2Real', 'DiffPeakVO2', 'DiffPercentPeakVO2',\n",
            "       'MeanVO2', 'PeakVO2', 'MeanVCO2', 'O2PulseDiff', 'O2PulsePercent',\n",
            "       'VO2vsPeakVO2atVT'],\n",
            "      dtype='object') 10\n"
          ]
        }
      ]
    },
    {
      "cell_type": "code",
      "source": [
        "# clf = LogisticRegression()\n",
        "# clf.fit(x_train, y_train)\n",
        "\n",
        "# y_pred = clf.predict(x_test)"
      ],
      "metadata": {
        "id": "t6PX9EsIwS7q"
      },
      "execution_count": null,
      "outputs": []
    },
    {
      "cell_type": "code",
      "source": [
        "clf = LogisticRegression()\n",
        "hyperparams = {\n",
        "  \"penalty\": [\"l1\", \"l2\", \"elasticnet\", None],\n",
        "  \"C\": [0.1, 1, 10, 100],\n",
        "  \"fit_intercept\": [True, False],  # removed auto\n",
        "  \"solver\": [\"lbfgs\", \"liblinear\", \"newton-cg\", \"newton-cholesky\", \"sag\", \"saga\"],\n",
        "  \"max_iter\": [100, 500],\n",
        "}\n",
        "grid_search = GridSearchCV(clf, hyperparams, cv=5)\n",
        "_ = grid_search.fit(x_train, y_train)\n",
        "print(grid_search.best_params_)\n",
        "\n",
        "accuracies = []\n",
        "precisions = []\n",
        "recalls = []\n",
        "f1s = []\n",
        "for i in range(1000):\n",
        "  y_pred = grid_search.predict(x_test)\n",
        "\n",
        "  accuracy = accuracy_score(y_test, y_pred)\n",
        "  precision = precision_score(y_test, y_pred, average='weighted')\n",
        "  recall = recall_score(y_test, y_pred, average='weighted')\n",
        "  f1 = f1_score(y_test, y_pred, average='weighted')\n",
        "\n",
        "  accuracies.append(accuracy)\n",
        "  precisions.append(precision)\n",
        "  recalls.append(recall)\n",
        "  f1s.append(f1)"
      ],
      "metadata": {
        "colab": {
          "base_uri": "https://localhost:8080/"
        },
        "id": "hcKVj3uxz9UF",
        "outputId": "e3391949-d1e0-426f-9103-d5dfb65de7d0"
      },
      "execution_count": null,
      "outputs": [
        {
          "output_type": "stream",
          "name": "stdout",
          "text": [
            "{'C': 0.1, 'fit_intercept': False, 'max_iter': 100, 'penalty': 'l2', 'solver': 'lbfgs'}\n"
          ]
        }
      ]
    },
    {
      "cell_type": "code",
      "source": [
        "ave_accuracy = np.mean(accuracies)\n",
        "ave_precision = np.mean(precisions)\n",
        "ave_recall = np.mean(recalls)\n",
        "ave_f1 = np.mean(f1s)\n",
        "\n",
        "print(\"Average Scores:\")\n",
        "print(\"Accuracy:\", ave_accuracy)\n",
        "print(\"Precision:\", ave_precision)\n",
        "print(\"Recall:\", ave_recall)\n",
        "print(\"F1 Score:\", ave_f1)"
      ],
      "metadata": {
        "colab": {
          "base_uri": "https://localhost:8080/"
        },
        "id": "YpsvV2BYS19K",
        "outputId": "66672f71-10f0-4426-a9ff-e73987d54a94"
      },
      "execution_count": null,
      "outputs": [
        {
          "output_type": "stream",
          "name": "stdout",
          "text": [
            "Average Scores:\n",
            "Accuracy: 0.5606060606060606\n",
            "Precision: 0.7259358288770054\n",
            "Recall: 0.5606060606060606\n",
            "F1 Score: 0.5013363632131959\n"
          ]
        }
      ]
    },
    {
      "cell_type": "code",
      "source": [
        "# matrix = confusion_matrix(y_test, y_pred)\n",
        "\n",
        "# class_names = ['CardiacLim','Healthy','MuscleSkeletalLim','PulmonaryLim']\n",
        "   \n",
        "# plt.clf()\n",
        "\n",
        "# # place labels at the top\n",
        "# plt.gca().xaxis.tick_top()\n",
        "# plt.gca().xaxis.set_label_position('top')\n",
        "\n",
        "# # plot the matrix per se\n",
        "# plt.imshow(matrix, interpolation='nearest', cmap=plt.cm.Blues)\n",
        "\n",
        "# # plot colorbar to the right\n",
        "# plt.colorbar()\n",
        "    \n",
        "# fmt = 'd'\n",
        "\n",
        "# # write the number of predictions in each bucket\n",
        "# thresh = matrix.max() / 2.\n",
        "# for i, j in itertools.product(range(matrix.shape[0]), range(matrix.shape[1])):\n",
        "\n",
        "#     # if background is dark, use a white number, and vice-versa\n",
        "#     plt.text(j, i, format(matrix[i, j], fmt),\n",
        "#          horizontalalignment=\"center\",\n",
        "#          color=\"white\" if matrix[i, j] > thresh else \"black\")\n",
        "    \n",
        "# tick_marks = np.arange(len(class_names))\n",
        "# plt.xticks(tick_marks, class_names, rotation=45)\n",
        "# plt.yticks(tick_marks, class_names)\n",
        "# plt.tight_layout()\n",
        "# plt.ylabel('True label', size=14)\n",
        "# plt.xlabel('Predicted label', size=14)\n",
        "# plt.show()"
      ],
      "metadata": {
        "id": "GhwMBRowwmS2"
      },
      "execution_count": null,
      "outputs": []
    }
  ]
}