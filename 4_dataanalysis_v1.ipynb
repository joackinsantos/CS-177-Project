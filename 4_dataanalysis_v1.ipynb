{
 "cells": [
  {
   "cell_type": "markdown",
   "id": "c3663457",
   "metadata": {},
   "source": [
    "This is where we do feature selection, dimension reduction etc."
   ]
  },
  {
   "cell_type": "code",
   "execution_count": null,
   "id": "62fad9b8",
   "metadata": {},
   "outputs": [],
   "source": []
  }
 ],
 "metadata": {
  "kernelspec": {
   "display_name": "Python 3 (ipykernel)",
   "language": "python",
   "name": "python3"
  },
  "language_info": {
   "codemirror_mode": {
    "name": "ipython",
    "version": 3
   },
   "file_extension": ".py",
   "mimetype": "text/x-python",
   "name": "python",
   "nbconvert_exporter": "python",
   "pygments_lexer": "ipython3",
   "version": "3.9.12"
  }
 },
 "nbformat": 4,
 "nbformat_minor": 5
}
