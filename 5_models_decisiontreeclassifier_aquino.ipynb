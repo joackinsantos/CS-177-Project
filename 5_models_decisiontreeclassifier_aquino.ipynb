{
  "nbformat": 4,
  "nbformat_minor": 0,
  "metadata": {
    "colab": {
      "provenance": []
    },
    "kernelspec": {
      "name": "python3",
      "display_name": "Python 3"
    },
    "language_info": {
      "name": "python"
    }
  },
  "cells": [
    {
      "cell_type": "code",
      "execution_count": null,
      "metadata": {
        "colab": {
          "base_uri": "https://localhost:8080/"
        },
        "id": "iCx4cKAMzjRe",
        "outputId": "c9a9c959-f905-446e-f93e-bf6243a51636"
      },
      "outputs": [
        {
          "output_type": "stream",
          "name": "stdout",
          "text": [
            "Drive already mounted at /content/gdrive; to attempt to forcibly remount, call drive.mount(\"/content/gdrive\", force_remount=True).\n"
          ]
        }
      ],
      "source": [
        "import numpy as np\n",
        "import pandas as pd\n",
        "\n",
        "from sklearn.model_selection import GridSearchCV\n",
        "from sklearn.tree import DecisionTreeClassifier\n",
        "from sklearn.ensemble import AdaBoostClassifier\n",
        "import xgboost as xgb\n",
        "\n",
        "from sklearn.metrics import confusion_matrix, accuracy_score, precision_score, recall_score, f1_score, classification_report\n",
        "import itertools\n",
        "import numpy as np\n",
        "import matplotlib.pyplot as plt\n",
        "import seaborn as sns\n",
        "import pandas as pd\n",
        "\n",
        "import warnings\n",
        "\n",
        "warnings.filterwarnings('ignore')\n",
        "\n",
        "train_set = pd.read_csv('train_set.csv')\n",
        "test_set = pd.read_csv('test_set.csv')\n"
      ]
    },
    {
      "cell_type": "code",
      "source": [
        "# Split the training dataset into features (x) and class (y)\n",
        "x_train = train_set.copy()\n",
        "x_train = train_set.drop(\"Class\", axis=1)\n",
        "y_train = train_set[\"Class\"]\n",
        "\n",
        "# Split the training dataset into features (x) and class (y)\n",
        "x_test = test_set.copy()\n",
        "x_test = x_test.drop(\"Class\", axis=1)\n",
        "y_test = test_set[\"Class\"]\n",
        "\n",
        "display(x_train.head())\n",
        "\n",
        "train_len = len(y_train)\n",
        "test_len = len(y_test)\n",
        "total_len = train_len + test_len\n",
        "print(total_len)\n",
        "print(f\"Number of training dataset records: {train_len}, {'{:.2f}%'.format(100 * train_len / total_len)} of total\")\n",
        "print(f\"Number of test dataset records: {len(x_test)}, {'{:.2f}%'.format(100 * test_len / total_len)} of total\")"
      ],
      "metadata": {
        "colab": {
          "base_uri": "https://localhost:8080/",
          "height": 260
        },
        "id": "ABXJJlQh2iZu",
        "outputId": "9116881c-1742-4def-8fd0-d2b28be4041f"
      },
      "execution_count": null,
      "outputs": [
        {
          "output_type": "display_data",
          "data": {
            "text/plain": [
              "   LowestVE/VCO2  PeakVO2Real  DiffPeakVO2  DiffPercentPeakVO2   MeanVO2  \\\n",
              "0       0.125760    -0.418146     0.363240           -0.858639 -0.015964   \n",
              "1       0.638246    -1.135581    -0.584887           -0.521123 -1.149392   \n",
              "2      -0.668593    -0.436081    -0.199208           -0.408618 -0.510841   \n",
              "3      -1.667941     0.012315    -0.954495            0.073547 -0.223493   \n",
              "4       0.689494    -0.310530     0.845338           -1.501526  0.782225   \n",
              "\n",
              "    PeakVO2  MeanVCO2  O2PulseDiff  O2PulsePercent  VO2vsPeakVO2atVT  \n",
              "0 -0.418146 -0.312581    -0.702406       -0.574696          0.077734  \n",
              "1 -1.135581 -1.196624     0.031928       -1.404812         -1.043617  \n",
              "2 -0.436081 -0.441169    -0.399094       -0.878007         -0.082459  \n",
              "3  0.012315 -0.071479    -0.175601       -1.037645         -0.146536  \n",
              "4 -0.310530  1.117960    -0.654515       -0.670478         -0.643134  "
            ],
            "text/html": [
              "\n",
              "  <div id=\"df-5c6d9821-b3ca-4105-848e-9edbeb81a363\">\n",
              "    <div class=\"colab-df-container\">\n",
              "      <div>\n",
              "<style scoped>\n",
              "    .dataframe tbody tr th:only-of-type {\n",
              "        vertical-align: middle;\n",
              "    }\n",
              "\n",
              "    .dataframe tbody tr th {\n",
              "        vertical-align: top;\n",
              "    }\n",
              "\n",
              "    .dataframe thead th {\n",
              "        text-align: right;\n",
              "    }\n",
              "</style>\n",
              "<table border=\"1\" class=\"dataframe\">\n",
              "  <thead>\n",
              "    <tr style=\"text-align: right;\">\n",
              "      <th></th>\n",
              "      <th>LowestVE/VCO2</th>\n",
              "      <th>PeakVO2Real</th>\n",
              "      <th>DiffPeakVO2</th>\n",
              "      <th>DiffPercentPeakVO2</th>\n",
              "      <th>MeanVO2</th>\n",
              "      <th>PeakVO2</th>\n",
              "      <th>MeanVCO2</th>\n",
              "      <th>O2PulseDiff</th>\n",
              "      <th>O2PulsePercent</th>\n",
              "      <th>VO2vsPeakVO2atVT</th>\n",
              "    </tr>\n",
              "  </thead>\n",
              "  <tbody>\n",
              "    <tr>\n",
              "      <th>0</th>\n",
              "      <td>0.125760</td>\n",
              "      <td>-0.418146</td>\n",
              "      <td>0.363240</td>\n",
              "      <td>-0.858639</td>\n",
              "      <td>-0.015964</td>\n",
              "      <td>-0.418146</td>\n",
              "      <td>-0.312581</td>\n",
              "      <td>-0.702406</td>\n",
              "      <td>-0.574696</td>\n",
              "      <td>0.077734</td>\n",
              "    </tr>\n",
              "    <tr>\n",
              "      <th>1</th>\n",
              "      <td>0.638246</td>\n",
              "      <td>-1.135581</td>\n",
              "      <td>-0.584887</td>\n",
              "      <td>-0.521123</td>\n",
              "      <td>-1.149392</td>\n",
              "      <td>-1.135581</td>\n",
              "      <td>-1.196624</td>\n",
              "      <td>0.031928</td>\n",
              "      <td>-1.404812</td>\n",
              "      <td>-1.043617</td>\n",
              "    </tr>\n",
              "    <tr>\n",
              "      <th>2</th>\n",
              "      <td>-0.668593</td>\n",
              "      <td>-0.436081</td>\n",
              "      <td>-0.199208</td>\n",
              "      <td>-0.408618</td>\n",
              "      <td>-0.510841</td>\n",
              "      <td>-0.436081</td>\n",
              "      <td>-0.441169</td>\n",
              "      <td>-0.399094</td>\n",
              "      <td>-0.878007</td>\n",
              "      <td>-0.082459</td>\n",
              "    </tr>\n",
              "    <tr>\n",
              "      <th>3</th>\n",
              "      <td>-1.667941</td>\n",
              "      <td>0.012315</td>\n",
              "      <td>-0.954495</td>\n",
              "      <td>0.073547</td>\n",
              "      <td>-0.223493</td>\n",
              "      <td>0.012315</td>\n",
              "      <td>-0.071479</td>\n",
              "      <td>-0.175601</td>\n",
              "      <td>-1.037645</td>\n",
              "      <td>-0.146536</td>\n",
              "    </tr>\n",
              "    <tr>\n",
              "      <th>4</th>\n",
              "      <td>0.689494</td>\n",
              "      <td>-0.310530</td>\n",
              "      <td>0.845338</td>\n",
              "      <td>-1.501526</td>\n",
              "      <td>0.782225</td>\n",
              "      <td>-0.310530</td>\n",
              "      <td>1.117960</td>\n",
              "      <td>-0.654515</td>\n",
              "      <td>-0.670478</td>\n",
              "      <td>-0.643134</td>\n",
              "    </tr>\n",
              "  </tbody>\n",
              "</table>\n",
              "</div>\n",
              "      <button class=\"colab-df-convert\" onclick=\"convertToInteractive('df-5c6d9821-b3ca-4105-848e-9edbeb81a363')\"\n",
              "              title=\"Convert this dataframe to an interactive table.\"\n",
              "              style=\"display:none;\">\n",
              "        \n",
              "  <svg xmlns=\"http://www.w3.org/2000/svg\" height=\"24px\"viewBox=\"0 0 24 24\"\n",
              "       width=\"24px\">\n",
              "    <path d=\"M0 0h24v24H0V0z\" fill=\"none\"/>\n",
              "    <path d=\"M18.56 5.44l.94 2.06.94-2.06 2.06-.94-2.06-.94-.94-2.06-.94 2.06-2.06.94zm-11 1L8.5 8.5l.94-2.06 2.06-.94-2.06-.94L8.5 2.5l-.94 2.06-2.06.94zm10 10l.94 2.06.94-2.06 2.06-.94-2.06-.94-.94-2.06-.94 2.06-2.06.94z\"/><path d=\"M17.41 7.96l-1.37-1.37c-.4-.4-.92-.59-1.43-.59-.52 0-1.04.2-1.43.59L10.3 9.45l-7.72 7.72c-.78.78-.78 2.05 0 2.83L4 21.41c.39.39.9.59 1.41.59.51 0 1.02-.2 1.41-.59l7.78-7.78 2.81-2.81c.8-.78.8-2.07 0-2.86zM5.41 20L4 18.59l7.72-7.72 1.47 1.35L5.41 20z\"/>\n",
              "  </svg>\n",
              "      </button>\n",
              "      \n",
              "  <style>\n",
              "    .colab-df-container {\n",
              "      display:flex;\n",
              "      flex-wrap:wrap;\n",
              "      gap: 12px;\n",
              "    }\n",
              "\n",
              "    .colab-df-convert {\n",
              "      background-color: #E8F0FE;\n",
              "      border: none;\n",
              "      border-radius: 50%;\n",
              "      cursor: pointer;\n",
              "      display: none;\n",
              "      fill: #1967D2;\n",
              "      height: 32px;\n",
              "      padding: 0 0 0 0;\n",
              "      width: 32px;\n",
              "    }\n",
              "\n",
              "    .colab-df-convert:hover {\n",
              "      background-color: #E2EBFA;\n",
              "      box-shadow: 0px 1px 2px rgba(60, 64, 67, 0.3), 0px 1px 3px 1px rgba(60, 64, 67, 0.15);\n",
              "      fill: #174EA6;\n",
              "    }\n",
              "\n",
              "    [theme=dark] .colab-df-convert {\n",
              "      background-color: #3B4455;\n",
              "      fill: #D2E3FC;\n",
              "    }\n",
              "\n",
              "    [theme=dark] .colab-df-convert:hover {\n",
              "      background-color: #434B5C;\n",
              "      box-shadow: 0px 1px 3px 1px rgba(0, 0, 0, 0.15);\n",
              "      filter: drop-shadow(0px 1px 2px rgba(0, 0, 0, 0.3));\n",
              "      fill: #FFFFFF;\n",
              "    }\n",
              "  </style>\n",
              "\n",
              "      <script>\n",
              "        const buttonEl =\n",
              "          document.querySelector('#df-5c6d9821-b3ca-4105-848e-9edbeb81a363 button.colab-df-convert');\n",
              "        buttonEl.style.display =\n",
              "          google.colab.kernel.accessAllowed ? 'block' : 'none';\n",
              "\n",
              "        async function convertToInteractive(key) {\n",
              "          const element = document.querySelector('#df-5c6d9821-b3ca-4105-848e-9edbeb81a363');\n",
              "          const dataTable =\n",
              "            await google.colab.kernel.invokeFunction('convertToInteractive',\n",
              "                                                     [key], {});\n",
              "          if (!dataTable) return;\n",
              "\n",
              "          const docLinkHtml = 'Like what you see? Visit the ' +\n",
              "            '<a target=\"_blank\" href=https://colab.research.google.com/notebooks/data_table.ipynb>data table notebook</a>'\n",
              "            + ' to learn more about interactive tables.';\n",
              "          element.innerHTML = '';\n",
              "          dataTable['output_type'] = 'display_data';\n",
              "          await google.colab.output.renderOutput(dataTable, element);\n",
              "          const docLink = document.createElement('div');\n",
              "          docLink.innerHTML = docLinkHtml;\n",
              "          element.appendChild(docLink);\n",
              "        }\n",
              "      </script>\n",
              "    </div>\n",
              "  </div>\n",
              "  "
            ]
          },
          "metadata": {}
        },
        {
          "output_type": "stream",
          "name": "stdout",
          "text": [
            "202\n",
            "Number of training dataset records: 136, 67.33% of total\n",
            "Number of test dataset records: 66, 32.67% of total\n"
          ]
        }
      ]
    },
    {
      "cell_type": "code",
      "source": [
        "print(x_train.columns, len(x_train.columns))"
      ],
      "metadata": {
        "colab": {
          "base_uri": "https://localhost:8080/"
        },
        "id": "u0czLZnBo-eT",
        "outputId": "7438676c-8245-42ed-c728-03a809aeb359"
      },
      "execution_count": null,
      "outputs": [
        {
          "output_type": "stream",
          "name": "stdout",
          "text": [
            "Index(['LowestVE/VCO2', 'PeakVO2Real', 'DiffPeakVO2', 'DiffPercentPeakVO2',\n",
            "       'MeanVO2', 'PeakVO2', 'MeanVCO2', 'O2PulseDiff', 'O2PulsePercent',\n",
            "       'VO2vsPeakVO2atVT'],\n",
            "      dtype='object') 10\n"
          ]
        }
      ]
    },
    {
      "cell_type": "code",
      "source": [
        "# Decision Tree Classifier\n",
        "\n",
        "clf = DecisionTreeClassifier()\n",
        "hyperparams = {\n",
        "  \"criterion\": [\"gini\", \"entropy\", \"log_loss\"],\n",
        "  \"splitter\": [\"best\", \"random\"],\n",
        "  \"max_depth\": [None, 2, 4, 6, 8],\n",
        "  \"min_samples_split\": [2, 4, 6, 8, 10],\n",
        "  \"min_samples_leaf\": [1, 2, 4, 6, 8],\n",
        "  \"max_features\": [None, \"log2\", \"sqrt\"],\n",
        "  \"class_weight\": [None, \"balanced\"]\n",
        "}\n",
        "grid_search = GridSearchCV(clf, hyperparams, cv=5)\n",
        "grid_search.fit(x_train, y_train)\n",
        "print(grid_search.best_params_)\n",
        "\n",
        "accuracies = []\n",
        "precisions = []\n",
        "recalls = []\n",
        "f1s = []\n",
        "for i in range(1000):\n",
        "  y_pred = grid_search.predict(x_test)\n",
        "\n",
        "  accuracy = accuracy_score(y_test, y_pred)\n",
        "  precision = precision_score(y_test, y_pred, average='weighted')\n",
        "  recall = recall_score(y_test, y_pred, average='weighted')\n",
        "  f1 = f1_score(y_test, y_pred, average='weighted')\n",
        "\n",
        "  accuracies.append(accuracy)\n",
        "  precisions.append(precision)\n",
        "  recalls.append(recall)\n",
        "  f1s.append(f1)"
      ],
      "metadata": {
        "colab": {
          "base_uri": "https://localhost:8080/"
        },
        "id": "GNMgTpuh2pjT",
        "outputId": "6704c4f4-5594-468c-e20a-9e237b0cbef3"
      },
      "execution_count": null,
      "outputs": [
        {
          "output_type": "stream",
          "name": "stdout",
          "text": [
            "{'class_weight': None, 'criterion': 'gini', 'max_depth': None, 'max_features': 'log2', 'min_samples_leaf': 1, 'min_samples_split': 2, 'splitter': 'random'}\n"
          ]
        }
      ]
    },
    {
      "cell_type": "code",
      "source": [
        "ave_accuracy = np.mean(accuracies)\n",
        "ave_precision = np.mean(precisions)\n",
        "ave_recall = np.mean(recalls)\n",
        "ave_f1 = np.mean(f1s)\n",
        "\n",
        "print(\"Average Scores:\")\n",
        "print(\"Accuracy:\", ave_accuracy)\n",
        "print(\"Precision:\", ave_precision)\n",
        "print(\"Recall:\", ave_recall)\n",
        "print(\"F1 Score:\", ave_f1)"
      ],
      "metadata": {
        "colab": {
          "base_uri": "https://localhost:8080/"
        },
        "id": "9v1Ou1yn28a7",
        "outputId": "7786cea0-aa28-4b17-df65-82a9b6623b10"
      },
      "execution_count": null,
      "outputs": [
        {
          "output_type": "stream",
          "name": "stdout",
          "text": [
            "Average Scores:\n",
            "Accuracy: 0.5151515151515154\n",
            "Precision: 0.5828930328930328\n",
            "Recall: 0.5151515151515154\n",
            "F1 Score: 0.5265170910332201\n"
          ]
        }
      ]
    }
  ]
}